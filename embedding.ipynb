{
 "cells": [
  {
   "cell_type": "code",
   "execution_count": 1,
   "metadata": {},
   "outputs": [
    {
     "name": "stderr",
     "output_type": "stream",
     "text": [
      "2024-11-03 12:00:39.415673: I external/local_tsl/tsl/cuda/cudart_stub.cc:31] Could not find cuda drivers on your machine, GPU will not be used.\n",
      "2024-11-03 12:00:39.507190: E external/local_xla/xla/stream_executor/cuda/cuda_dnn.cc:9261] Unable to register cuDNN factory: Attempting to register factory for plugin cuDNN when one has already been registered\n",
      "2024-11-03 12:00:39.507263: E external/local_xla/xla/stream_executor/cuda/cuda_fft.cc:607] Unable to register cuFFT factory: Attempting to register factory for plugin cuFFT when one has already been registered\n",
      "2024-11-03 12:00:39.509900: E external/local_xla/xla/stream_executor/cuda/cuda_blas.cc:1515] Unable to register cuBLAS factory: Attempting to register factory for plugin cuBLAS when one has already been registered\n",
      "2024-11-03 12:00:39.524738: I external/local_tsl/tsl/cuda/cudart_stub.cc:31] Could not find cuda drivers on your machine, GPU will not be used.\n",
      "2024-11-03 12:00:39.525870: I tensorflow/core/platform/cpu_feature_guard.cc:182] This TensorFlow binary is optimized to use available CPU instructions in performance-critical operations.\n",
      "To enable the following instructions: AVX2 FMA, in other operations, rebuild TensorFlow with the appropriate compiler flags.\n",
      "2024-11-03 12:00:41.575610: W tensorflow/compiler/tf2tensorrt/utils/py_utils.cc:38] TF-TRT Warning: Could not find TensorRT\n"
     ]
    }
   ],
   "source": [
    "from tensorflow.keras.preprocessing.text import one_hot"
   ]
  },
  {
   "cell_type": "code",
   "execution_count": 2,
   "metadata": {},
   "outputs": [],
   "source": [
    "sent=[\n",
    "    \"the glass of milk\",\n",
    "    \"the glass of juice\",\n",
    "    \"the cup of tea\",\n",
    "    \"I am a good boy\",\n",
    "    \"I am a good developer\",\n",
    "    \"understand the meaning of word\",\n",
    "    \"your videos are good\"\n",
    "]"
   ]
  },
  {
   "cell_type": "code",
   "execution_count": 3,
   "metadata": {},
   "outputs": [],
   "source": [
    "##Define vocabulary size\n",
    "voc_size=10000"
   ]
  },
  {
   "cell_type": "code",
   "execution_count": 4,
   "metadata": {},
   "outputs": [],
   "source": [
    "##One rep \n",
    "one_hot_rep=[one_hot(words,voc_size) for words in sent]"
   ]
  },
  {
   "cell_type": "code",
   "execution_count": 5,
   "metadata": {},
   "outputs": [
    {
     "data": {
      "text/plain": [
       "[[5299, 4897, 6610, 3706],\n",
       " [5299, 4897, 6610, 9532],\n",
       " [5299, 8134, 6610, 1244],\n",
       " [1650, 9334, 8279, 5219, 4177],\n",
       " [1650, 9334, 8279, 5219, 7206],\n",
       " [4708, 5299, 2998, 6610, 7629],\n",
       " [2273, 5187, 166, 5219]]"
      ]
     },
     "execution_count": 5,
     "metadata": {},
     "output_type": "execute_result"
    }
   ],
   "source": [
    "one_hot_rep"
   ]
  },
  {
   "cell_type": "code",
   "execution_count": 6,
   "metadata": {},
   "outputs": [],
   "source": [
    "## Word embedding rep\n",
    "from tensorflow.keras.layers import Embedding\n",
    "from tensorflow.keras.utils import pad_sequences\n",
    "from tensorflow.keras.models import Sequential"
   ]
  },
  {
   "cell_type": "code",
   "execution_count": 7,
   "metadata": {},
   "outputs": [],
   "source": [
    "import numpy as np"
   ]
  },
  {
   "cell_type": "code",
   "execution_count": 8,
   "metadata": {},
   "outputs": [],
   "source": [
    "sent_len=8\n",
    "embeded_docs=pad_sequences(one_hot_rep,padding=\"pre\",maxlen=sent_len)"
   ]
  },
  {
   "cell_type": "code",
   "execution_count": 9,
   "metadata": {},
   "outputs": [
    {
     "data": {
      "text/plain": [
       "array([[   0,    0,    0,    0, 5299, 4897, 6610, 3706],\n",
       "       [   0,    0,    0,    0, 5299, 4897, 6610, 9532],\n",
       "       [   0,    0,    0,    0, 5299, 8134, 6610, 1244],\n",
       "       [   0,    0,    0, 1650, 9334, 8279, 5219, 4177],\n",
       "       [   0,    0,    0, 1650, 9334, 8279, 5219, 7206],\n",
       "       [   0,    0,    0, 4708, 5299, 2998, 6610, 7629],\n",
       "       [   0,    0,    0,    0, 2273, 5187,  166, 5219]], dtype=int32)"
      ]
     },
     "execution_count": 9,
     "metadata": {},
     "output_type": "execute_result"
    }
   ],
   "source": [
    "embeded_docs"
   ]
  },
  {
   "cell_type": "code",
   "execution_count": 10,
   "metadata": {},
   "outputs": [
    {
     "data": {
      "text/plain": [
       "['the glass of milk',\n",
       " 'the glass of juice',\n",
       " 'the cup of tea',\n",
       " 'I am a good boy',\n",
       " 'I am a good developer',\n",
       " 'understand the meaning of word',\n",
       " 'your videos are good']"
      ]
     },
     "execution_count": 10,
     "metadata": {},
     "output_type": "execute_result"
    }
   ],
   "source": [
    "sent"
   ]
  },
  {
   "cell_type": "code",
   "execution_count": 11,
   "metadata": {},
   "outputs": [],
   "source": [
    "### Feature rep\n",
    "dim=10"
   ]
  },
  {
   "cell_type": "code",
   "execution_count": 12,
   "metadata": {},
   "outputs": [
    {
     "name": "stderr",
     "output_type": "stream",
     "text": [
      "/home/raja/learnings/ANN/venv/lib/python3.11/site-packages/keras/src/layers/core/embedding.py:90: UserWarning: Argument `input_length` is deprecated. Just remove it.\n",
      "  warnings.warn(\n"
     ]
    }
   ],
   "source": [
    "model=Sequential()\n",
    "model.add(Embedding(voc_size,dim,input_length=sent_len))\n",
    "model.compile('adam','mse')"
   ]
  },
  {
   "cell_type": "code",
   "execution_count": 13,
   "metadata": {},
   "outputs": [
    {
     "data": {
      "text/html": [
       "<pre style=\"white-space:pre;overflow-x:auto;line-height:normal;font-family:Menlo,'DejaVu Sans Mono',consolas,'Courier New',monospace\"><span style=\"font-weight: bold\">Model: \"sequential\"</span>\n",
       "</pre>\n"
      ],
      "text/plain": [
       "\u001b[1mModel: \"sequential\"\u001b[0m\n"
      ]
     },
     "metadata": {},
     "output_type": "display_data"
    },
    {
     "data": {
      "text/html": [
       "<pre style=\"white-space:pre;overflow-x:auto;line-height:normal;font-family:Menlo,'DejaVu Sans Mono',consolas,'Courier New',monospace\">┏━━━━━━━━━━━━━━━━━━━━━━━━━━━━━━━━━┳━━━━━━━━━━━━━━━━━━━━━━━━┳━━━━━━━━━━━━━━━┓\n",
       "┃<span style=\"font-weight: bold\"> Layer (type)                    </span>┃<span style=\"font-weight: bold\"> Output Shape           </span>┃<span style=\"font-weight: bold\">       Param # </span>┃\n",
       "┡━━━━━━━━━━━━━━━━━━━━━━━━━━━━━━━━━╇━━━━━━━━━━━━━━━━━━━━━━━━╇━━━━━━━━━━━━━━━┩\n",
       "│ embedding (<span style=\"color: #0087ff; text-decoration-color: #0087ff\">Embedding</span>)           │ ?                      │   <span style=\"color: #00af00; text-decoration-color: #00af00\">0</span> (unbuilt) │\n",
       "└─────────────────────────────────┴────────────────────────┴───────────────┘\n",
       "</pre>\n"
      ],
      "text/plain": [
       "┏━━━━━━━━━━━━━━━━━━━━━━━━━━━━━━━━━┳━━━━━━━━━━━━━━━━━━━━━━━━┳━━━━━━━━━━━━━━━┓\n",
       "┃\u001b[1m \u001b[0m\u001b[1mLayer (type)                   \u001b[0m\u001b[1m \u001b[0m┃\u001b[1m \u001b[0m\u001b[1mOutput Shape          \u001b[0m\u001b[1m \u001b[0m┃\u001b[1m \u001b[0m\u001b[1m      Param #\u001b[0m\u001b[1m \u001b[0m┃\n",
       "┡━━━━━━━━━━━━━━━━━━━━━━━━━━━━━━━━━╇━━━━━━━━━━━━━━━━━━━━━━━━╇━━━━━━━━━━━━━━━┩\n",
       "│ embedding (\u001b[38;5;33mEmbedding\u001b[0m)           │ ?                      │   \u001b[38;5;34m0\u001b[0m (unbuilt) │\n",
       "└─────────────────────────────────┴────────────────────────┴───────────────┘\n"
      ]
     },
     "metadata": {},
     "output_type": "display_data"
    },
    {
     "data": {
      "text/html": [
       "<pre style=\"white-space:pre;overflow-x:auto;line-height:normal;font-family:Menlo,'DejaVu Sans Mono',consolas,'Courier New',monospace\"><span style=\"font-weight: bold\"> Total params: </span><span style=\"color: #00af00; text-decoration-color: #00af00\">0</span> (0.00 B)\n",
       "</pre>\n"
      ],
      "text/plain": [
       "\u001b[1m Total params: \u001b[0m\u001b[38;5;34m0\u001b[0m (0.00 B)\n"
      ]
     },
     "metadata": {},
     "output_type": "display_data"
    },
    {
     "data": {
      "text/html": [
       "<pre style=\"white-space:pre;overflow-x:auto;line-height:normal;font-family:Menlo,'DejaVu Sans Mono',consolas,'Courier New',monospace\"><span style=\"font-weight: bold\"> Trainable params: </span><span style=\"color: #00af00; text-decoration-color: #00af00\">0</span> (0.00 B)\n",
       "</pre>\n"
      ],
      "text/plain": [
       "\u001b[1m Trainable params: \u001b[0m\u001b[38;5;34m0\u001b[0m (0.00 B)\n"
      ]
     },
     "metadata": {},
     "output_type": "display_data"
    },
    {
     "data": {
      "text/html": [
       "<pre style=\"white-space:pre;overflow-x:auto;line-height:normal;font-family:Menlo,'DejaVu Sans Mono',consolas,'Courier New',monospace\"><span style=\"font-weight: bold\"> Non-trainable params: </span><span style=\"color: #00af00; text-decoration-color: #00af00\">0</span> (0.00 B)\n",
       "</pre>\n"
      ],
      "text/plain": [
       "\u001b[1m Non-trainable params: \u001b[0m\u001b[38;5;34m0\u001b[0m (0.00 B)\n"
      ]
     },
     "metadata": {},
     "output_type": "display_data"
    }
   ],
   "source": [
    "model.summary()"
   ]
  },
  {
   "cell_type": "code",
   "execution_count": 14,
   "metadata": {},
   "outputs": [
    {
     "name": "stdout",
     "output_type": "stream",
     "text": [
      "\u001b[1m1/1\u001b[0m \u001b[32m━━━━━━━━━━━━━━━━━━━━\u001b[0m\u001b[37m\u001b[0m \u001b[1m0s\u001b[0m 237ms/step\n"
     ]
    },
    {
     "data": {
      "text/plain": [
       "array([[[ 0.02200456,  0.03224008,  0.01111341, -0.04534935,\n",
       "          0.03342345, -0.04697211,  0.00810045, -0.02009149,\n",
       "          0.00231483, -0.03537083],\n",
       "        [ 0.02200456,  0.03224008,  0.01111341, -0.04534935,\n",
       "          0.03342345, -0.04697211,  0.00810045, -0.02009149,\n",
       "          0.00231483, -0.03537083],\n",
       "        [ 0.02200456,  0.03224008,  0.01111341, -0.04534935,\n",
       "          0.03342345, -0.04697211,  0.00810045, -0.02009149,\n",
       "          0.00231483, -0.03537083],\n",
       "        [ 0.02200456,  0.03224008,  0.01111341, -0.04534935,\n",
       "          0.03342345, -0.04697211,  0.00810045, -0.02009149,\n",
       "          0.00231483, -0.03537083],\n",
       "        [ 0.0409267 ,  0.0226483 , -0.01494056,  0.01775242,\n",
       "          0.00770871,  0.02910805,  0.04385947, -0.04604684,\n",
       "         -0.02957403,  0.03110857],\n",
       "        [ 0.0272732 , -0.01267515,  0.01845933, -0.03132804,\n",
       "          0.03720994,  0.04711368,  0.0018672 , -0.02496703,\n",
       "         -0.03601098,  0.00946931],\n",
       "        [ 0.04440236, -0.04363912,  0.03442908, -0.02572968,\n",
       "         -0.02260821, -0.03279646,  0.03341058, -0.04670085,\n",
       "         -0.00450989, -0.03137992],\n",
       "        [ 0.02966486,  0.04576753, -0.0254993 ,  0.00051731,\n",
       "         -0.02021009,  0.01510951, -0.04548682, -0.02605126,\n",
       "         -0.0421561 ,  0.00087411]],\n",
       "\n",
       "       [[ 0.02200456,  0.03224008,  0.01111341, -0.04534935,\n",
       "          0.03342345, -0.04697211,  0.00810045, -0.02009149,\n",
       "          0.00231483, -0.03537083],\n",
       "        [ 0.02200456,  0.03224008,  0.01111341, -0.04534935,\n",
       "          0.03342345, -0.04697211,  0.00810045, -0.02009149,\n",
       "          0.00231483, -0.03537083],\n",
       "        [ 0.02200456,  0.03224008,  0.01111341, -0.04534935,\n",
       "          0.03342345, -0.04697211,  0.00810045, -0.02009149,\n",
       "          0.00231483, -0.03537083],\n",
       "        [ 0.02200456,  0.03224008,  0.01111341, -0.04534935,\n",
       "          0.03342345, -0.04697211,  0.00810045, -0.02009149,\n",
       "          0.00231483, -0.03537083],\n",
       "        [ 0.0409267 ,  0.0226483 , -0.01494056,  0.01775242,\n",
       "          0.00770871,  0.02910805,  0.04385947, -0.04604684,\n",
       "         -0.02957403,  0.03110857],\n",
       "        [ 0.0272732 , -0.01267515,  0.01845933, -0.03132804,\n",
       "          0.03720994,  0.04711368,  0.0018672 , -0.02496703,\n",
       "         -0.03601098,  0.00946931],\n",
       "        [ 0.04440236, -0.04363912,  0.03442908, -0.02572968,\n",
       "         -0.02260821, -0.03279646,  0.03341058, -0.04670085,\n",
       "         -0.00450989, -0.03137992],\n",
       "        [ 0.03649412,  0.0037589 , -0.033039  ,  0.03085044,\n",
       "         -0.03823017, -0.03198145, -0.03142397, -0.04500721,\n",
       "          0.02741219,  0.0485473 ]],\n",
       "\n",
       "       [[ 0.02200456,  0.03224008,  0.01111341, -0.04534935,\n",
       "          0.03342345, -0.04697211,  0.00810045, -0.02009149,\n",
       "          0.00231483, -0.03537083],\n",
       "        [ 0.02200456,  0.03224008,  0.01111341, -0.04534935,\n",
       "          0.03342345, -0.04697211,  0.00810045, -0.02009149,\n",
       "          0.00231483, -0.03537083],\n",
       "        [ 0.02200456,  0.03224008,  0.01111341, -0.04534935,\n",
       "          0.03342345, -0.04697211,  0.00810045, -0.02009149,\n",
       "          0.00231483, -0.03537083],\n",
       "        [ 0.02200456,  0.03224008,  0.01111341, -0.04534935,\n",
       "          0.03342345, -0.04697211,  0.00810045, -0.02009149,\n",
       "          0.00231483, -0.03537083],\n",
       "        [ 0.0409267 ,  0.0226483 , -0.01494056,  0.01775242,\n",
       "          0.00770871,  0.02910805,  0.04385947, -0.04604684,\n",
       "         -0.02957403,  0.03110857],\n",
       "        [ 0.02555672, -0.01892979, -0.02842653,  0.0201826 ,\n",
       "         -0.02537878,  0.02992379,  0.03196463,  0.02083479,\n",
       "          0.00611498,  0.04558075],\n",
       "        [ 0.04440236, -0.04363912,  0.03442908, -0.02572968,\n",
       "         -0.02260821, -0.03279646,  0.03341058, -0.04670085,\n",
       "         -0.00450989, -0.03137992],\n",
       "        [-0.01512118,  0.03016397,  0.02698806, -0.03822597,\n",
       "         -0.04481043,  0.03535539, -0.00502431, -0.04015887,\n",
       "          0.01543484,  0.01526079]],\n",
       "\n",
       "       [[ 0.02200456,  0.03224008,  0.01111341, -0.04534935,\n",
       "          0.03342345, -0.04697211,  0.00810045, -0.02009149,\n",
       "          0.00231483, -0.03537083],\n",
       "        [ 0.02200456,  0.03224008,  0.01111341, -0.04534935,\n",
       "          0.03342345, -0.04697211,  0.00810045, -0.02009149,\n",
       "          0.00231483, -0.03537083],\n",
       "        [ 0.02200456,  0.03224008,  0.01111341, -0.04534935,\n",
       "          0.03342345, -0.04697211,  0.00810045, -0.02009149,\n",
       "          0.00231483, -0.03537083],\n",
       "        [-0.00871067,  0.03800727,  0.03849593, -0.00836767,\n",
       "          0.00397692, -0.04797696,  0.00397427,  0.01184035,\n",
       "          0.00958835, -0.00228053],\n",
       "        [-0.00982241, -0.03195182,  0.01103194,  0.03204277,\n",
       "          0.02387765,  0.01397267,  0.01907562, -0.02567369,\n",
       "         -0.00287762,  0.02411388],\n",
       "        [ 0.04119026,  0.01766663, -0.00349115,  0.00817572,\n",
       "          0.00535095,  0.04817882, -0.02021513, -0.04998408,\n",
       "         -0.02308129, -0.00303851],\n",
       "        [-0.01435199,  0.0179528 , -0.04626277, -0.02156625,\n",
       "         -0.00066718, -0.046756  ,  0.01697418, -0.01015417,\n",
       "          0.04642198,  0.04544176],\n",
       "        [ 0.04915825, -0.02748177, -0.0249395 ,  0.0198002 ,\n",
       "         -0.00674342, -0.03032565,  0.044151  , -0.04338399,\n",
       "         -0.01729363,  0.01241003]],\n",
       "\n",
       "       [[ 0.02200456,  0.03224008,  0.01111341, -0.04534935,\n",
       "          0.03342345, -0.04697211,  0.00810045, -0.02009149,\n",
       "          0.00231483, -0.03537083],\n",
       "        [ 0.02200456,  0.03224008,  0.01111341, -0.04534935,\n",
       "          0.03342345, -0.04697211,  0.00810045, -0.02009149,\n",
       "          0.00231483, -0.03537083],\n",
       "        [ 0.02200456,  0.03224008,  0.01111341, -0.04534935,\n",
       "          0.03342345, -0.04697211,  0.00810045, -0.02009149,\n",
       "          0.00231483, -0.03537083],\n",
       "        [-0.00871067,  0.03800727,  0.03849593, -0.00836767,\n",
       "          0.00397692, -0.04797696,  0.00397427,  0.01184035,\n",
       "          0.00958835, -0.00228053],\n",
       "        [-0.00982241, -0.03195182,  0.01103194,  0.03204277,\n",
       "          0.02387765,  0.01397267,  0.01907562, -0.02567369,\n",
       "         -0.00287762,  0.02411388],\n",
       "        [ 0.04119026,  0.01766663, -0.00349115,  0.00817572,\n",
       "          0.00535095,  0.04817882, -0.02021513, -0.04998408,\n",
       "         -0.02308129, -0.00303851],\n",
       "        [-0.01435199,  0.0179528 , -0.04626277, -0.02156625,\n",
       "         -0.00066718, -0.046756  ,  0.01697418, -0.01015417,\n",
       "          0.04642198,  0.04544176],\n",
       "        [ 0.03752961,  0.0447752 ,  0.0051191 , -0.0439106 ,\n",
       "          0.01680349, -0.0489628 , -0.0439177 ,  0.00854108,\n",
       "         -0.03473996, -0.00506042]],\n",
       "\n",
       "       [[ 0.02200456,  0.03224008,  0.01111341, -0.04534935,\n",
       "          0.03342345, -0.04697211,  0.00810045, -0.02009149,\n",
       "          0.00231483, -0.03537083],\n",
       "        [ 0.02200456,  0.03224008,  0.01111341, -0.04534935,\n",
       "          0.03342345, -0.04697211,  0.00810045, -0.02009149,\n",
       "          0.00231483, -0.03537083],\n",
       "        [ 0.02200456,  0.03224008,  0.01111341, -0.04534935,\n",
       "          0.03342345, -0.04697211,  0.00810045, -0.02009149,\n",
       "          0.00231483, -0.03537083],\n",
       "        [-0.00903627, -0.03490126, -0.03605031,  0.01102177,\n",
       "          0.04591327, -0.02562276, -0.04170393,  0.0249532 ,\n",
       "          0.04106486,  0.04301376],\n",
       "        [ 0.0409267 ,  0.0226483 , -0.01494056,  0.01775242,\n",
       "          0.00770871,  0.02910805,  0.04385947, -0.04604684,\n",
       "         -0.02957403,  0.03110857],\n",
       "        [-0.04826492,  0.0147519 ,  0.02854371, -0.02651699,\n",
       "         -0.02691385, -0.04501134, -0.01385647, -0.01736134,\n",
       "          0.0105416 ,  0.03823734],\n",
       "        [ 0.04440236, -0.04363912,  0.03442908, -0.02572968,\n",
       "         -0.02260821, -0.03279646,  0.03341058, -0.04670085,\n",
       "         -0.00450989, -0.03137992],\n",
       "        [-0.02636211, -0.03368431, -0.03446003, -0.04081762,\n",
       "         -0.00852468,  0.01505597, -0.00890068, -0.04755485,\n",
       "          0.0247381 , -0.00671443]],\n",
       "\n",
       "       [[ 0.02200456,  0.03224008,  0.01111341, -0.04534935,\n",
       "          0.03342345, -0.04697211,  0.00810045, -0.02009149,\n",
       "          0.00231483, -0.03537083],\n",
       "        [ 0.02200456,  0.03224008,  0.01111341, -0.04534935,\n",
       "          0.03342345, -0.04697211,  0.00810045, -0.02009149,\n",
       "          0.00231483, -0.03537083],\n",
       "        [ 0.02200456,  0.03224008,  0.01111341, -0.04534935,\n",
       "          0.03342345, -0.04697211,  0.00810045, -0.02009149,\n",
       "          0.00231483, -0.03537083],\n",
       "        [ 0.02200456,  0.03224008,  0.01111341, -0.04534935,\n",
       "          0.03342345, -0.04697211,  0.00810045, -0.02009149,\n",
       "          0.00231483, -0.03537083],\n",
       "        [-0.0087441 , -0.03472015, -0.02525597,  0.02567483,\n",
       "          0.00258379, -0.02418568,  0.03162848, -0.01577295,\n",
       "         -0.01956687,  0.02257631],\n",
       "        [ 0.01311285, -0.04789622, -0.02143003, -0.00945338,\n",
       "         -0.01553776, -0.03919476, -0.02165334, -0.02276068,\n",
       "          0.00963245,  0.03252176],\n",
       "        [-0.04497027, -0.02460408,  0.01055986,  0.03731693,\n",
       "          0.01578983, -0.03192695,  0.04239148, -0.02427534,\n",
       "          0.0034155 ,  0.00790345],\n",
       "        [-0.01435199,  0.0179528 , -0.04626277, -0.02156625,\n",
       "         -0.00066718, -0.046756  ,  0.01697418, -0.01015417,\n",
       "          0.04642198,  0.04544176]]], dtype=float32)"
      ]
     },
     "execution_count": 14,
     "metadata": {},
     "output_type": "execute_result"
    }
   ],
   "source": [
    "model.predict(embeded_docs)"
   ]
  },
  {
   "cell_type": "code",
   "execution_count": null,
   "metadata": {},
   "outputs": [],
   "source": []
  }
 ],
 "metadata": {
  "kernelspec": {
   "display_name": "Python 3",
   "language": "python",
   "name": "python3"
  },
  "language_info": {
   "codemirror_mode": {
    "name": "ipython",
    "version": 3
   },
   "file_extension": ".py",
   "mimetype": "text/x-python",
   "name": "python",
   "nbconvert_exporter": "python",
   "pygments_lexer": "ipython3",
   "version": "3.11.10"
  }
 },
 "nbformat": 4,
 "nbformat_minor": 2
}
