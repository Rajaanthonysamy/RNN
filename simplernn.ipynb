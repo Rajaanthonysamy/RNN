{
  "nbformat": 4,
  "nbformat_minor": 0,
  "metadata": {
    "colab": {
      "provenance": []
    },
    "kernelspec": {
      "name": "python3",
      "display_name": "Python 3"
    },
    "language_info": {
      "name": "python"
    }
  },
  "cells": [
    {
      "cell_type": "code",
      "execution_count": 1,
      "metadata": {
        "id": "aB3j91vCX0eu"
      },
      "outputs": [],
      "source": [
        "import numpy as np\n",
        "from tensorflow.keras.datasets import imdb\n",
        "import tensorflow as tf\n",
        "from tensorflow.keras.preprocessing import sequence\n",
        "from tensorflow.keras.models import Sequential\n",
        "from tensorflow.keras.layers import Embedding,SimpleRNN,Dense"
      ]
    },
    {
      "cell_type": "code",
      "source": [
        "max_features=10000\n",
        "(X_train,y_train),(X_test,y_test)=imdb.load_data(num_words=10000)\n",
        "print(X_train.shape,y_train.shape)"
      ],
      "metadata": {
        "colab": {
          "base_uri": "https://localhost:8080/"
        },
        "id": "QPRPfaulX1RQ",
        "outputId": "1c8c9234-fb04-4c30-9727-ee0b0936b5f0"
      },
      "execution_count": 2,
      "outputs": [
        {
          "output_type": "stream",
          "name": "stdout",
          "text": [
            "Downloading data from https://storage.googleapis.com/tensorflow/tf-keras-datasets/imdb.npz\n",
            "\u001b[1m17464789/17464789\u001b[0m \u001b[32m━━━━━━━━━━━━━━━━━━━━\u001b[0m\u001b[37m\u001b[0m \u001b[1m0s\u001b[0m 0us/step\n",
            "(25000,) (25000,)\n"
          ]
        }
      ]
    },
    {
      "cell_type": "code",
      "source": [
        "len(X_train[0])"
      ],
      "metadata": {
        "colab": {
          "base_uri": "https://localhost:8080/"
        },
        "id": "Z-d2uiZQYKKR",
        "outputId": "b4462482-ff1c-404c-8688-c060a26e6ba7"
      },
      "execution_count": 3,
      "outputs": [
        {
          "output_type": "execute_result",
          "data": {
            "text/plain": [
              "218"
            ]
          },
          "metadata": {},
          "execution_count": 3
        }
      ]
    },
    {
      "cell_type": "code",
      "source": [
        "word_index=imdb.get_word_index()"
      ],
      "metadata": {
        "colab": {
          "base_uri": "https://localhost:8080/"
        },
        "id": "OCX82oeIaB9s",
        "outputId": "b64b2edd-e91d-4bfb-b04e-7efa01e1c47e"
      },
      "execution_count": 4,
      "outputs": [
        {
          "output_type": "stream",
          "name": "stdout",
          "text": [
            "Downloading data from https://storage.googleapis.com/tensorflow/tf-keras-datasets/imdb_word_index.json\n",
            "\u001b[1m1641221/1641221\u001b[0m \u001b[32m━━━━━━━━━━━━━━━━━━━━\u001b[0m\u001b[37m\u001b[0m \u001b[1m0s\u001b[0m 0us/step\n"
          ]
        }
      ]
    },
    {
      "cell_type": "code",
      "source": [
        "wrd_ind=word_index"
      ],
      "metadata": {
        "id": "owUlo-c6aljK"
      },
      "execution_count": 25,
      "outputs": []
    },
    {
      "cell_type": "code",
      "source": [
        "reverse_word_index=dict([(value,key) for (key,value) in word_index.items()])"
      ],
      "metadata": {
        "id": "5HksML-6anEJ"
      },
      "execution_count": 6,
      "outputs": []
    },
    {
      "cell_type": "code",
      "source": [
        "reverse_word_index"
      ],
      "metadata": {
        "id": "1O6TIza-qxYT"
      },
      "execution_count": 25,
      "outputs": []
    },
    {
      "cell_type": "code",
      "source": [
        "decode_review=' '.join([reverse_word_index.get(i-3,'?') for i in X_train[0]])"
      ],
      "metadata": {
        "id": "yXOjCZqRqyfO"
      },
      "execution_count": 8,
      "outputs": []
    },
    {
      "cell_type": "code",
      "source": [
        "decode_review"
      ],
      "metadata": {
        "colab": {
          "base_uri": "https://localhost:8080/",
          "height": 163
        },
        "id": "yAG0ArGArMtV",
        "outputId": "0c7c0cb4-d795-42db-c568-94ff78045193"
      },
      "execution_count": 9,
      "outputs": [
        {
          "output_type": "execute_result",
          "data": {
            "text/plain": [
              "\"? this film was just brilliant casting location scenery story direction everyone's really suited the part they played and you could just imagine being there robert ? is an amazing actor and now the same being director ? father came from the same scottish island as myself so i loved the fact there was a real connection with this film the witty remarks throughout the film were great it was just brilliant so much that i bought the film as soon as it was released for ? and would recommend it to everyone to watch and the fly fishing was amazing really cried at the end it was so sad and you know what they say if you cry at a film it must have been good and this definitely was also ? to the two little boy's that played the ? of norman and paul they were just brilliant children are often left out of the ? list i think because the stars that play them all grown up are such a big profile for the whole film but these children are amazing and should be praised for what they have done don't you think the whole story was so lovely because it was true and was someone's life after all that was shared with us all\""
            ],
            "application/vnd.google.colaboratory.intrinsic+json": {
              "type": "string"
            }
          },
          "metadata": {},
          "execution_count": 9
        }
      ]
    },
    {
      "cell_type": "code",
      "source": [
        "from tensorflow.keras.preprocessing.sequence import pad_sequences\n",
        "\n",
        "X_train=pad_sequences(X_train,maxlen=500)\n",
        "X_test=pad_sequences(X_test,maxlen=500)"
      ],
      "metadata": {
        "id": "_MG8CfFhrOLl"
      },
      "execution_count": 10,
      "outputs": []
    },
    {
      "cell_type": "code",
      "source": [
        "model=Sequential()\n",
        "model.add(Embedding(max_features,128,input_length=500))  ### EMbedding layer\n",
        "model.add(SimpleRNN(128,activation='relu'))\n",
        "model.add(Dense(1,activation='sigmoid'))\n",
        "model.summary()"
      ],
      "metadata": {
        "colab": {
          "base_uri": "https://localhost:8080/",
          "height": 286
        },
        "id": "vIwiB0R_rx5n",
        "outputId": "9954370b-4b44-4ed4-ea82-a609d826f306"
      },
      "execution_count": 26,
      "outputs": [
        {
          "output_type": "stream",
          "name": "stderr",
          "text": [
            "/usr/local/lib/python3.10/dist-packages/keras/src/layers/core/embedding.py:90: UserWarning: Argument `input_length` is deprecated. Just remove it.\n",
            "  warnings.warn(\n"
          ]
        },
        {
          "output_type": "display_data",
          "data": {
            "text/plain": [
              "\u001b[1mModel: \"sequential_5\"\u001b[0m\n"
            ],
            "text/html": [
              "<pre style=\"white-space:pre;overflow-x:auto;line-height:normal;font-family:Menlo,'DejaVu Sans Mono',consolas,'Courier New',monospace\"><span style=\"font-weight: bold\">Model: \"sequential_5\"</span>\n",
              "</pre>\n"
            ]
          },
          "metadata": {}
        },
        {
          "output_type": "display_data",
          "data": {
            "text/plain": [
              "┏━━━━━━━━━━━━━━━━━━━━━━━━━━━━━━━━━━━━━━┳━━━━━━━━━━━━━━━━━━━━━━━━━━━━━┳━━━━━━━━━━━━━━━━━┓\n",
              "┃\u001b[1m \u001b[0m\u001b[1mLayer (type)                        \u001b[0m\u001b[1m \u001b[0m┃\u001b[1m \u001b[0m\u001b[1mOutput Shape               \u001b[0m\u001b[1m \u001b[0m┃\u001b[1m \u001b[0m\u001b[1m        Param #\u001b[0m\u001b[1m \u001b[0m┃\n",
              "┡━━━━━━━━━━━━━━━━━━━━━━━━━━━━━━━━━━━━━━╇━━━━━━━━━━━━━━━━━━━━━━━━━━━━━╇━━━━━━━━━━━━━━━━━┩\n",
              "│ embedding_5 (\u001b[38;5;33mEmbedding\u001b[0m)              │ ?                           │     \u001b[38;5;34m0\u001b[0m (unbuilt) │\n",
              "├──────────────────────────────────────┼─────────────────────────────┼─────────────────┤\n",
              "│ simple_rnn_5 (\u001b[38;5;33mSimpleRNN\u001b[0m)             │ ?                           │     \u001b[38;5;34m0\u001b[0m (unbuilt) │\n",
              "├──────────────────────────────────────┼─────────────────────────────┼─────────────────┤\n",
              "│ dense_4 (\u001b[38;5;33mDense\u001b[0m)                      │ ?                           │     \u001b[38;5;34m0\u001b[0m (unbuilt) │\n",
              "└──────────────────────────────────────┴─────────────────────────────┴─────────────────┘\n"
            ],
            "text/html": [
              "<pre style=\"white-space:pre;overflow-x:auto;line-height:normal;font-family:Menlo,'DejaVu Sans Mono',consolas,'Courier New',monospace\">┏━━━━━━━━━━━━━━━━━━━━━━━━━━━━━━━━━━━━━━┳━━━━━━━━━━━━━━━━━━━━━━━━━━━━━┳━━━━━━━━━━━━━━━━━┓\n",
              "┃<span style=\"font-weight: bold\"> Layer (type)                         </span>┃<span style=\"font-weight: bold\"> Output Shape                </span>┃<span style=\"font-weight: bold\">         Param # </span>┃\n",
              "┡━━━━━━━━━━━━━━━━━━━━━━━━━━━━━━━━━━━━━━╇━━━━━━━━━━━━━━━━━━━━━━━━━━━━━╇━━━━━━━━━━━━━━━━━┩\n",
              "│ embedding_5 (<span style=\"color: #0087ff; text-decoration-color: #0087ff\">Embedding</span>)              │ ?                           │     <span style=\"color: #00af00; text-decoration-color: #00af00\">0</span> (unbuilt) │\n",
              "├──────────────────────────────────────┼─────────────────────────────┼─────────────────┤\n",
              "│ simple_rnn_5 (<span style=\"color: #0087ff; text-decoration-color: #0087ff\">SimpleRNN</span>)             │ ?                           │     <span style=\"color: #00af00; text-decoration-color: #00af00\">0</span> (unbuilt) │\n",
              "├──────────────────────────────────────┼─────────────────────────────┼─────────────────┤\n",
              "│ dense_4 (<span style=\"color: #0087ff; text-decoration-color: #0087ff\">Dense</span>)                      │ ?                           │     <span style=\"color: #00af00; text-decoration-color: #00af00\">0</span> (unbuilt) │\n",
              "└──────────────────────────────────────┴─────────────────────────────┴─────────────────┘\n",
              "</pre>\n"
            ]
          },
          "metadata": {}
        },
        {
          "output_type": "display_data",
          "data": {
            "text/plain": [
              "\u001b[1m Total params: \u001b[0m\u001b[38;5;34m0\u001b[0m (0.00 B)\n"
            ],
            "text/html": [
              "<pre style=\"white-space:pre;overflow-x:auto;line-height:normal;font-family:Menlo,'DejaVu Sans Mono',consolas,'Courier New',monospace\"><span style=\"font-weight: bold\"> Total params: </span><span style=\"color: #00af00; text-decoration-color: #00af00\">0</span> (0.00 B)\n",
              "</pre>\n"
            ]
          },
          "metadata": {}
        },
        {
          "output_type": "display_data",
          "data": {
            "text/plain": [
              "\u001b[1m Trainable params: \u001b[0m\u001b[38;5;34m0\u001b[0m (0.00 B)\n"
            ],
            "text/html": [
              "<pre style=\"white-space:pre;overflow-x:auto;line-height:normal;font-family:Menlo,'DejaVu Sans Mono',consolas,'Courier New',monospace\"><span style=\"font-weight: bold\"> Trainable params: </span><span style=\"color: #00af00; text-decoration-color: #00af00\">0</span> (0.00 B)\n",
              "</pre>\n"
            ]
          },
          "metadata": {}
        },
        {
          "output_type": "display_data",
          "data": {
            "text/plain": [
              "\u001b[1m Non-trainable params: \u001b[0m\u001b[38;5;34m0\u001b[0m (0.00 B)\n"
            ],
            "text/html": [
              "<pre style=\"white-space:pre;overflow-x:auto;line-height:normal;font-family:Menlo,'DejaVu Sans Mono',consolas,'Courier New',monospace\"><span style=\"font-weight: bold\"> Non-trainable params: </span><span style=\"color: #00af00; text-decoration-color: #00af00\">0</span> (0.00 B)\n",
              "</pre>\n"
            ]
          },
          "metadata": {}
        }
      ]
    },
    {
      "cell_type": "code",
      "source": [
        "model.compile(optimizer=\"adam\",loss='binary_crossentropy',metrics=['accuracy'])"
      ],
      "metadata": {
        "id": "3ZHIQtc8tnUu"
      },
      "execution_count": 27,
      "outputs": []
    },
    {
      "cell_type": "code",
      "source": [
        "### create early stop\n",
        "from tensorflow.keras.callbacks import EarlyStopping\n",
        "early_stop=EarlyStopping(monitor='val_loss',patience=5,restore_best_weights=True)\n",
        "early_stop"
      ],
      "metadata": {
        "colab": {
          "base_uri": "https://localhost:8080/"
        },
        "id": "ncwxE290sOGj",
        "outputId": "84504a73-6b50-4ec4-fb95-c002c3e68d2f"
      },
      "execution_count": 28,
      "outputs": [
        {
          "output_type": "execute_result",
          "data": {
            "text/plain": [
              "<keras.src.callbacks.early_stopping.EarlyStopping at 0x792d5722b0d0>"
            ]
          },
          "metadata": {},
          "execution_count": 28
        }
      ]
    },
    {
      "cell_type": "code",
      "source": [
        "history=model.fit(X_train,y_train,batch_size=128,epochs=10,validation_split=0.2,callbacks=[early_stop])"
      ],
      "metadata": {
        "colab": {
          "base_uri": "https://localhost:8080/"
        },
        "id": "vr6joon4taiH",
        "outputId": "3093bdad-3cb1-481d-d604-556a8d175982"
      },
      "execution_count": 29,
      "outputs": [
        {
          "output_type": "stream",
          "name": "stdout",
          "text": [
            "Epoch 1/10\n",
            "\u001b[1m157/157\u001b[0m \u001b[32m━━━━━━━━━━━━━━━━━━━━\u001b[0m\u001b[37m\u001b[0m \u001b[1m149s\u001b[0m 796ms/step - accuracy: 0.5854 - loss: 2.0643 - val_accuracy: 0.5692 - val_loss: 0.7481\n",
            "Epoch 2/10\n",
            "\u001b[1m157/157\u001b[0m \u001b[32m━━━━━━━━━━━━━━━━━━━━\u001b[0m\u001b[37m\u001b[0m \u001b[1m143s\u001b[0m 803ms/step - accuracy: 0.5986 - loss: 4.6820 - val_accuracy: 0.5112 - val_loss: 1.6130\n",
            "Epoch 3/10\n",
            "\u001b[1m157/157\u001b[0m \u001b[32m━━━━━━━━━━━━━━━━━━━━\u001b[0m\u001b[37m\u001b[0m \u001b[1m126s\u001b[0m 803ms/step - accuracy: 0.5975 - loss: 0.7803 - val_accuracy: 0.6274 - val_loss: 0.6349\n",
            "Epoch 4/10\n",
            "\u001b[1m157/157\u001b[0m \u001b[32m━━━━━━━━━━━━━━━━━━━━\u001b[0m\u001b[37m\u001b[0m \u001b[1m126s\u001b[0m 800ms/step - accuracy: 0.6771 - loss: 284216.2188 - val_accuracy: 0.5242 - val_loss: 0.6971\n",
            "Epoch 5/10\n",
            "\u001b[1m157/157\u001b[0m \u001b[32m━━━━━━━━━━━━━━━━━━━━\u001b[0m\u001b[37m\u001b[0m \u001b[1m142s\u001b[0m 799ms/step - accuracy: 0.5583 - loss: 0.6599 - val_accuracy: 0.6408 - val_loss: 0.6286\n",
            "Epoch 6/10\n",
            "\u001b[1m157/157\u001b[0m \u001b[32m━━━━━━━━━━━━━━━━━━━━\u001b[0m\u001b[37m\u001b[0m \u001b[1m146s\u001b[0m 823ms/step - accuracy: 0.7070 - loss: 0.5768 - val_accuracy: 0.6494 - val_loss: 0.6149\n",
            "Epoch 7/10\n",
            "\u001b[1m157/157\u001b[0m \u001b[32m━━━━━━━━━━━━━━━━━━━━\u001b[0m\u001b[37m\u001b[0m \u001b[1m140s\u001b[0m 809ms/step - accuracy: 0.7403 - loss: 0.5456 - val_accuracy: 0.6956 - val_loss: 0.5704\n",
            "Epoch 8/10\n",
            "\u001b[1m157/157\u001b[0m \u001b[32m━━━━━━━━━━━━━━━━━━━━\u001b[0m\u001b[37m\u001b[0m \u001b[1m126s\u001b[0m 806ms/step - accuracy: 0.7994 - loss: 0.4660 - val_accuracy: 0.7586 - val_loss: 0.5064\n",
            "Epoch 9/10\n",
            "\u001b[1m157/157\u001b[0m \u001b[32m━━━━━━━━━━━━━━━━━━━━\u001b[0m\u001b[37m\u001b[0m \u001b[1m127s\u001b[0m 808ms/step - accuracy: 0.8384 - loss: 0.4025 - val_accuracy: 0.7684 - val_loss: 0.4879\n",
            "Epoch 10/10\n",
            "\u001b[1m157/157\u001b[0m \u001b[32m━━━━━━━━━━━━━━━━━━━━\u001b[0m\u001b[37m\u001b[0m \u001b[1m142s\u001b[0m 806ms/step - accuracy: 0.8730 - loss: 0.3429 - val_accuracy: 0.7268 - val_loss: 0.5311\n"
          ]
        }
      ]
    },
    {
      "cell_type": "code",
      "source": [
        "model.get_weights()"
      ],
      "metadata": {
        "colab": {
          "base_uri": "https://localhost:8080/"
        },
        "id": "Hzv54TVVtlU7",
        "outputId": "49d14dee-29eb-42ac-ffd1-81d889d9ccb0"
      },
      "execution_count": 30,
      "outputs": [
        {
          "output_type": "execute_result",
          "data": {
            "text/plain": [
              "[array([[-1.3025533 , -1.3848144 , -1.1000515 , ...,  1.2508496 ,\n",
              "         -1.3139956 , -1.2932673 ],\n",
              "        [ 0.0219636 , -0.06371297, -0.02533946, ...,  0.01683433,\n",
              "         -0.01070409,  0.00480335],\n",
              "        [ 0.00358819,  0.01080301,  0.10097607, ...,  0.00144351,\n",
              "          0.07445214,  0.03955551],\n",
              "        ...,\n",
              "        [-0.0179991 , -0.08760069, -0.03581374, ...,  0.00446518,\n",
              "          0.00820889, -0.01668117],\n",
              "        [ 0.11155223,  0.06336586, -0.08715708, ..., -0.05582655,\n",
              "          0.14217556, -0.04373007],\n",
              "        [ 0.03862724,  0.01019417,  0.03662822, ..., -0.01251221,\n",
              "         -0.00874689, -0.05521986]], dtype=float32),\n",
              " array([[ 0.14399527,  0.11613229,  0.03183438, ..., -0.04413456,\n",
              "         -0.08155388, -0.03184335],\n",
              "        [-0.04667183,  0.1078871 ,  0.0424402 , ..., -0.10583484,\n",
              "         -0.02166481,  0.11964669],\n",
              "        [-0.14722313, -0.1914317 ,  0.17567801, ..., -0.05581533,\n",
              "          0.10896369, -0.11173589],\n",
              "        ...,\n",
              "        [ 0.05597326, -0.05715473, -0.16842254, ...,  0.07623662,\n",
              "          0.06615007,  0.04986795],\n",
              "        [-0.03316613, -0.06431636, -0.06327569, ...,  0.03522075,\n",
              "          0.18599302,  0.15705621],\n",
              "        [ 0.09777208, -0.08588953,  0.14823867, ...,  0.02955767,\n",
              "         -0.03835644,  0.06368985]], dtype=float32),\n",
              " array([[ 0.00864724, -0.07118542,  0.06190282, ..., -0.09975524,\n",
              "         -0.02053464, -0.21999907],\n",
              "        [-0.11783201, -0.06048087,  0.01235293, ...,  0.01132014,\n",
              "         -0.04517403, -0.05723967],\n",
              "        [ 0.02158772, -0.00644812,  0.1879994 , ..., -0.13718861,\n",
              "          0.04937153,  0.03896752],\n",
              "        ...,\n",
              "        [-0.03676735, -0.26780516, -0.01470168, ..., -0.06195905,\n",
              "          0.06889699,  0.18925622],\n",
              "        [-0.02996555, -0.20051123,  0.04948023, ...,  0.11594473,\n",
              "         -0.17194287,  0.03872158],\n",
              "        [-0.06317516, -0.13680486,  0.01256192, ...,  0.6712514 ,\n",
              "          0.03912589,  0.06213333]], dtype=float32),\n",
              " array([-0.03942664, -0.04026575,  0.04574978,  0.03956963,  0.05102697,\n",
              "         0.01209889, -0.0056249 , -0.01681435,  0.00470647, -0.01668797,\n",
              "        -0.00136422, -0.00604175,  0.00925373, -0.02278335,  0.03473719,\n",
              "        -0.03874439, -0.03127984, -0.03509607,  0.02900759, -0.02023062,\n",
              "        -0.03382055, -0.04222396, -0.03309226, -0.00130191,  0.00044674,\n",
              "        -0.02692224, -0.01615798, -0.00513893,  0.00944894, -0.05567277,\n",
              "         0.02634402,  0.03464168,  0.02212479, -0.04098887,  0.0401985 ,\n",
              "        -0.02316698, -0.04209371, -0.01179713, -0.02998821, -0.02043751,\n",
              "        -0.03122394, -0.02576609,  0.00677647, -0.05823202, -0.04852343,\n",
              "         0.01891541,  0.02446576, -0.00055653,  0.02672975, -0.04130402,\n",
              "        -0.02846904,  0.05290709, -0.04655055, -0.00197822, -0.01912979,\n",
              "         0.0201788 , -0.02678734, -0.00866108, -0.03654504, -0.03289144,\n",
              "        -0.01729185, -0.02116805, -0.01826248, -0.05564522, -0.03509476,\n",
              "        -0.00394017,  0.00258936, -0.04719976,  0.01559452, -0.02723145,\n",
              "        -0.01120244,  0.00225518,  0.01283667,  0.01867599, -0.00896181,\n",
              "        -0.01285298, -0.01017386, -0.02256118,  0.00224408, -0.01589765,\n",
              "        -0.04311069,  0.01459954, -0.00497981,  0.02687234,  0.03131584,\n",
              "        -0.02498036, -0.00814353, -0.03024418,  0.03397434, -0.03604459,\n",
              "         0.03541568,  0.00364363, -0.01050538, -0.03085549, -0.0098394 ,\n",
              "        -0.02999374, -0.00083176, -0.00926047,  0.00322605,  0.0163215 ,\n",
              "        -0.0026822 , -0.04065152, -0.02468937, -0.00753109, -0.02999798,\n",
              "        -0.02627647,  0.03191241,  0.01954464, -0.04897136,  0.00158436,\n",
              "        -0.03649102,  0.03486923,  0.01776571, -0.02989401, -0.02492259,\n",
              "        -0.02195811, -0.007277  , -0.03410718, -0.00253981,  0.02238739,\n",
              "         0.0436825 , -0.05365741, -0.03198465,  0.00344198, -0.03722971,\n",
              "         0.04060729, -0.01925116, -0.01572736], dtype=float32),\n",
              " array([[-0.02370729],\n",
              "        [ 0.02673979],\n",
              "        [-0.07685036],\n",
              "        [-0.13150221],\n",
              "        [ 0.10216939],\n",
              "        [ 0.23068477],\n",
              "        [ 0.4094908 ],\n",
              "        [ 0.06161485],\n",
              "        [-0.02423977],\n",
              "        [ 0.13875744],\n",
              "        [-0.13396956],\n",
              "        [ 0.08902026],\n",
              "        [-0.0454795 ],\n",
              "        [ 0.14123212],\n",
              "        [ 0.08594787],\n",
              "        [ 0.20369399],\n",
              "        [ 0.3287546 ],\n",
              "        [-0.06020334],\n",
              "        [-0.1202025 ],\n",
              "        [ 0.09714941],\n",
              "        [ 0.14753248],\n",
              "        [ 0.11020704],\n",
              "        [ 0.22475135],\n",
              "        [-0.10008109],\n",
              "        [ 0.1942683 ],\n",
              "        [-0.05242418],\n",
              "        [-0.12376561],\n",
              "        [ 0.06906584],\n",
              "        [ 0.02665432],\n",
              "        [ 0.07531124],\n",
              "        [-0.06556005],\n",
              "        [ 0.06488466],\n",
              "        [-0.20591336],\n",
              "        [-0.6666881 ],\n",
              "        [-0.03461767],\n",
              "        [ 0.00332705],\n",
              "        [ 0.07818612],\n",
              "        [ 0.0351827 ],\n",
              "        [ 0.02597328],\n",
              "        [-0.09428027],\n",
              "        [-0.5206874 ],\n",
              "        [ 0.07291109],\n",
              "        [ 0.14627634],\n",
              "        [-0.05419338],\n",
              "        [-0.15241143],\n",
              "        [-0.1585767 ],\n",
              "        [-0.02988765],\n",
              "        [-0.1309015 ],\n",
              "        [-0.07610647],\n",
              "        [ 0.00209241],\n",
              "        [ 0.19642036],\n",
              "        [ 0.11422161],\n",
              "        [-0.07237175],\n",
              "        [-0.15105906],\n",
              "        [-0.05939751],\n",
              "        [-0.18378465],\n",
              "        [ 0.11143553],\n",
              "        [ 0.09486129],\n",
              "        [ 0.0500083 ],\n",
              "        [-0.04809845],\n",
              "        [-0.2501031 ],\n",
              "        [-0.05812494],\n",
              "        [ 0.03556074],\n",
              "        [ 0.08942384],\n",
              "        [-0.04900549],\n",
              "        [-0.754255  ],\n",
              "        [-0.05734164],\n",
              "        [ 0.20045473],\n",
              "        [-0.0569472 ],\n",
              "        [ 0.09031184],\n",
              "        [ 0.04465179],\n",
              "        [ 0.01307862],\n",
              "        [ 0.03365841],\n",
              "        [-0.02896475],\n",
              "        [-0.44360128],\n",
              "        [ 0.21232845],\n",
              "        [-0.68042463],\n",
              "        [ 0.24006633],\n",
              "        [ 0.09407495],\n",
              "        [ 0.17775719],\n",
              "        [ 0.05745668],\n",
              "        [ 0.05956435],\n",
              "        [-0.00488559],\n",
              "        [ 0.18063776],\n",
              "        [ 0.04223314],\n",
              "        [ 0.0030569 ],\n",
              "        [ 0.0319735 ],\n",
              "        [ 0.19822237],\n",
              "        [-0.0695531 ],\n",
              "        [ 0.31385276],\n",
              "        [ 0.2948727 ],\n",
              "        [-0.00219131],\n",
              "        [ 0.15724355],\n",
              "        [ 0.18903817],\n",
              "        [-0.20568243],\n",
              "        [ 0.03493953],\n",
              "        [ 0.14684859],\n",
              "        [ 0.15878583],\n",
              "        [-0.02371982],\n",
              "        [ 0.23471303],\n",
              "        [-0.21044005],\n",
              "        [-0.08822217],\n",
              "        [ 0.2414982 ],\n",
              "        [-0.04272898],\n",
              "        [-0.15515831],\n",
              "        [ 0.1403004 ],\n",
              "        [ 0.22446069],\n",
              "        [-0.15839437],\n",
              "        [ 0.08601777],\n",
              "        [ 0.16001287],\n",
              "        [ 0.02713094],\n",
              "        [ 0.08273654],\n",
              "        [ 0.17835799],\n",
              "        [-0.00756229],\n",
              "        [ 0.17265482],\n",
              "        [ 0.10997459],\n",
              "        [ 0.13254617],\n",
              "        [-0.13228306],\n",
              "        [ 0.13559408],\n",
              "        [ 0.26185235],\n",
              "        [-0.00972209],\n",
              "        [ 0.19305561],\n",
              "        [ 0.13709553],\n",
              "        [ 0.25361654],\n",
              "        [ 0.13442789],\n",
              "        [ 0.55310076],\n",
              "        [-0.11721563],\n",
              "        [ 0.1543626 ]], dtype=float32),\n",
              " array([0.4609927], dtype=float32)]"
            ]
          },
          "metadata": {},
          "execution_count": 30
        }
      ]
    },
    {
      "cell_type": "code",
      "source": [],
      "metadata": {
        "id": "sgJHjgS62Mjm"
      },
      "execution_count": null,
      "outputs": []
    }
  ]
}
